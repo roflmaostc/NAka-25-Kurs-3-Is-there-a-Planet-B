{
 "cells": [
  {
   "cell_type": "markdown",
   "id": "a3f279c7",
   "metadata": {},
   "source": [
    "# Lightkurve Tutorial\n",
    "Mit `lightkurve` lassen sich Daten von Kepler und TESS herunterladen und die Lichtkurve extrahieren. In diesem Tutorial gehen wir zuerst ein Beispiel, KELT-11 b durch. Im Anschluss extrahiert ihr die Lichtkurve für den Planeten, den ihr analysieren werdet.\n",
    "Mehr Infos un Tutorials zu `lightkurve` könnt ihr hier finden: https://lightkurve.github.io/lightkurve/index.html"
   ]
  },
  {
   "cell_type": "code",
   "execution_count": null,
   "id": "2ceb6063",
   "metadata": {},
   "outputs": [],
   "source": [
    "from astropy import units as u\n",
    "import lightkurve as lk\n",
    "import matplotlib.pyplot as plt"
   ]
  },
  {
   "cell_type": "markdown",
   "id": "8e01c28e",
   "metadata": {},
   "source": [
    "## Target Pixel File\n",
    "Zuerst laden wir uns die Imaging Data herunter. Das machen wir mit der `search_targetpixelfile` Funktion. Hier müssen wir den Namen unseres targets (in unserem Fall KELT-11 oder auch TIC 55092869), den Autor (für uns SPOC) und die Observationskadenz einfügen."
   ]
  },
  {
   "cell_type": "code",
   "execution_count": null,
   "id": "94f4d639",
   "metadata": {},
   "outputs": [],
   "source": [
    "# Searches for all available TESS data\n",
    "search_result = lk.search_targetpixelfile(\"TIC 55092869\")\n",
    "search_result"
   ]
  },
  {
   "cell_type": "code",
   "execution_count": null,
   "id": "1183b816",
   "metadata": {},
   "outputs": [],
   "source": [
    "# Searches for Data processed by SPOC and with an exposure time of 120 seconds\n",
    "search_result = lk.search_targetpixelfile(\"TIC 55092869\",author='SPOC',exptime=120)\n",
    "search_result"
   ]
  },
  {
   "cell_type": "markdown",
   "id": "8e4d6a32",
   "metadata": {},
   "source": [
    "Als Beispiel analysieren wir nur einen Sektor. Hier nehmen wir Sektor 9."
   ]
  },
  {
   "cell_type": "code",
   "execution_count": null,
   "id": "6bed9f20",
   "metadata": {},
   "outputs": [],
   "source": [
    "# Searches for Data processed by SPOC, with an exposure time of 120 seconds in Sector 9\n",
    "search_result = lk.search_targetpixelfile(\"TIC 55092869\",author='SPOC',exptime=120, sector=9)\n",
    "search_result"
   ]
  },
  {
   "cell_type": "markdown",
   "id": "4b2f6873",
   "metadata": {},
   "source": [
    "Nun laden wir die Daten herunter."
   ]
  },
  {
   "cell_type": "code",
   "execution_count": null,
   "id": "6ca00e5e",
   "metadata": {},
   "outputs": [],
   "source": [
    "tpf = search_result.download()"
   ]
  },
  {
   "cell_type": "markdown",
   "id": "416c9d54",
   "metadata": {},
   "source": [
    "Und plotten die Daten:"
   ]
  },
  {
   "cell_type": "code",
   "execution_count": null,
   "id": "83d76ceb",
   "metadata": {},
   "outputs": [],
   "source": [
    "tpf.plot(column='flux')\n",
    "plt.show()"
   ]
  },
  {
   "cell_type": "markdown",
   "id": "433a304d",
   "metadata": {},
   "source": [
    "Die beste Aperture (die ausgewählten Pixel für folgende Analysen) ist auch in diesem File gespeichert. Diese können wir uns wie folgt anschauen:"
   ]
  },
  {
   "cell_type": "code",
   "execution_count": null,
   "id": "9552084a",
   "metadata": {},
   "outputs": [],
   "source": [
    "tpf.plot(aperture_mask=tpf[0].pipeline_mask);\n",
    "plt.show()"
   ]
  },
  {
   "cell_type": "markdown",
   "id": "1f540967",
   "metadata": {},
   "source": [
    "## Konversion zur Lichtkurve\n",
    "Das Targetpixelfile lässt sich zur Lichtkurve mit der `to_lichtcurve` Funktion konvertieren. Dabei wird der Flux innerhalb der Aperture für jeden aufgenommen Zeitpunkt gelistet."
   ]
  },
  {
   "cell_type": "code",
   "execution_count": null,
   "id": "891a35a5",
   "metadata": {},
   "outputs": [],
   "source": [
    "lc = tpf.to_lightcurve()\n",
    "lc"
   ]
  },
  {
   "cell_type": "markdown",
   "id": "58be167a",
   "metadata": {},
   "source": [
    "Diese Lichtkurve können wir uns so anschauen:"
   ]
  },
  {
   "cell_type": "code",
   "execution_count": null,
   "id": "0c1651ec",
   "metadata": {},
   "outputs": [],
   "source": [
    "lc.plot()\n",
    "plt.show()"
   ]
  },
  {
   "cell_type": "markdown",
   "id": "41690082",
   "metadata": {},
   "source": [
    "## Analyse der Lichtkurven\n",
    "Nun annalysieren wir alle vorhandenen Lichtkurven und schauen, ob wir selbst den Planeten finden können. Dazu laden wir zunächst alle verfügbaren Lichtkurven herunter. Diese schauen wir uns in einem Plot an.\n",
    "KELT-11 wurde in 3 Sektoren observiert, die wir hier in den drei verschiedenen Farben sehen können."
   ]
  },
  {
   "cell_type": "code",
   "execution_count": null,
   "id": "02e9c7f2",
   "metadata": {},
   "outputs": [],
   "source": [
    "search_result = lk.search_lightcurve(\"TIC 55092869\", author='SPOC', cadence=120)\n",
    "\n",
    "# Download all available Kepler light curves\n",
    "lc_collection = search_result.download_all()\n",
    "lc_collection.plot()\n",
    "plt.show()"
   ]
  },
  {
   "cell_type": "markdown",
   "id": "f283cc99",
   "metadata": {},
   "source": [
    "Wir sehen, dass die Sektoren in Flux voneinander versetzt sind. Um sie auf die selbe Ebene zu bringen, normalisieren wir den Flux (`stitch`). Gleichzeitig entfernen wir Trends mit der `flatten` Funktion und entfernen Outlier (`remove_outliers`).\n",
    "Die Lichtkurven sehen dann so aus:"
   ]
  },
  {
   "cell_type": "code",
   "execution_count": null,
   "id": "cfd07c12",
   "metadata": {},
   "outputs": [],
   "source": [
    "lc = lc_collection.stitch().flatten(window_length=901).remove_outliers()\n",
    "lc.plot()\n",
    "plt.show()"
   ]
  },
  {
   "cell_type": "markdown",
   "id": "04c687dd",
   "metadata": {},
   "source": [
    "## Box Least Squares (BLS) Periodogram\n",
    "Um periodische Signal zu finden nutzen wir BLS. Dies werden wir gemeinsam im Kurs durchgehen. Mehr Infos könnt ihr hier finden: https://docs.astropy.org/en/stable/timeseries/bls.html "
   ]
  },
  {
   "cell_type": "code",
   "execution_count": null,
   "id": "b1c5fb76",
   "metadata": {},
   "outputs": [],
   "source": [
    "import numpy as np\n",
    "# Create array of periods to search\n",
    "period = np.linspace(1, 20, 10000)\n",
    "# Create a BLSPeriodogram\n",
    "bls = lc.to_periodogram(method='bls', period=period, frequency_factor=500)\n",
    "bls.plot()\n",
    "plt.show()"
   ]
  },
  {
   "cell_type": "markdown",
   "id": "01ee5d81",
   "metadata": {},
   "source": [
    "Wir sehen ein deutliches Signal knapp unter 5 Tagen. Wir können die Periode dieses Signals herausfinden, indem wir die Periode der maximales Power ausgeben:"
   ]
  },
  {
   "cell_type": "code",
   "execution_count": null,
   "id": "a6d08b6c",
   "metadata": {},
   "outputs": [],
   "source": [
    "planet_b_period = bls.period_at_max_power\n",
    "planet_b_t0 = bls.transit_time_at_max_power\n",
    "planet_b_dur = bls.duration_at_max_power\n",
    "\n",
    "# Check the value for period\n",
    "planet_b_period"
   ]
  },
  {
   "cell_type": "markdown",
   "id": "d6619ac6",
   "metadata": {},
   "source": [
    "Dies ist ähnlich zu der bekannten Periode von KELT-11b.\n",
    "\n",
    "Wir können die Lichtkurve nun in der Phase falten, sodass alle Transits übereinander liegen. Dadurch sehen wir den Transit klarer."
   ]
  },
  {
   "cell_type": "code",
   "execution_count": null,
   "id": "6049ac79",
   "metadata": {},
   "outputs": [],
   "source": [
    "\n",
    "ax = lc.fold(period=planet_b_period, epoch_time=planet_b_t0).scatter()\n",
    "ax.set_xlim(-5, 5)\n",
    "plt.show()"
   ]
  },
  {
   "cell_type": "markdown",
   "id": "30f1b401",
   "metadata": {},
   "source": [
    "Wir können diesen Transit auch einmal mit dem BLS model zeigen:"
   ]
  },
  {
   "cell_type": "code",
   "execution_count": null,
   "id": "f5ba8220",
   "metadata": {},
   "outputs": [],
   "source": [
    "# Create a BLS model using the BLS parameters\n",
    "planet_b_model = bls.get_transit_model(period=planet_b_period,\n",
    "                                       transit_time=planet_b_t0,\n",
    "                                       duration=planet_b_dur)\n",
    "\n",
    "ax = lc.fold(planet_b_period, planet_b_t0).scatter()\n",
    "planet_b_model.fold(planet_b_period, planet_b_t0).plot(ax=ax, c='r', lw=2)\n",
    "ax.set_xlim(-5, 5)\n",
    "plt.show()"
   ]
  },
  {
   "cell_type": "markdown",
   "id": "f3a71e61",
   "metadata": {},
   "source": [
    "## Gibt es noch weitere Planeten in den Daten?\n",
    "\n",
    "Dazu entfernen wir den Transit des Planeten, den wir bereits kennen, indem wir eine Maske kreieren. "
   ]
  },
  {
   "cell_type": "code",
   "execution_count": null,
   "id": "48aec24d",
   "metadata": {},
   "outputs": [],
   "source": [
    "planet_b_mask = bls.get_transit_mask(period=planet_b_period,\n",
    "                                     transit_time=planet_b_t0,\n",
    "                                     duration=planet_b_dur)"
   ]
  },
  {
   "cell_type": "markdown",
   "id": "5198e407",
   "metadata": {},
   "source": [
    "Hier stellen wir die Lichtkurve ohne Transit in schwarz und die bekannten Transits on rot dar. "
   ]
  },
  {
   "cell_type": "code",
   "execution_count": null,
   "id": "e037639b",
   "metadata": {},
   "outputs": [],
   "source": [
    "masked_lc = lc[~planet_b_mask]\n",
    "ax = masked_lc.scatter()\n",
    "lc[planet_b_mask].scatter(ax=ax, c='r', label='Masked')\n",
    "plt.show()"
   ]
  },
  {
   "cell_type": "markdown",
   "id": "68a55a85",
   "metadata": {},
   "source": [
    "Nun nutzen wir wieder ein BLS Periodogram, allerdings nur mit den Daten, die den bekannten Transit nicht enthalten:"
   ]
  },
  {
   "cell_type": "code",
   "execution_count": null,
   "id": "c3252ad1",
   "metadata": {},
   "outputs": [],
   "source": [
    "period = np.linspace(1, 30, 1000)\n",
    "bls = masked_lc.to_periodogram('bls', period=period, frequency_factor=500)\n",
    "bls.plot()\n",
    "plt.show()"
   ]
  },
  {
   "cell_type": "markdown",
   "id": "2b29fcaf",
   "metadata": {},
   "source": [
    "Wir sehen ein Signal knapp unter 10 Tagen. Wir können die Periode dieses Signals herausfinden, indem wir die Periode der maximales Power ausgeben:"
   ]
  },
  {
   "cell_type": "code",
   "execution_count": null,
   "id": "f8fc588e",
   "metadata": {},
   "outputs": [],
   "source": [
    "planet_c_period = bls.period_at_max_power\n",
    "planet_c_t0 = bls.transit_time_at_max_power\n",
    "planet_c_dur = bls.duration_at_max_power\n",
    "\n",
    "# Check the value for period\n",
    "planet_c_period"
   ]
  },
  {
   "cell_type": "markdown",
   "id": "7693e6ef",
   "metadata": {},
   "source": [
    "Auch hier können wir den Transit in Phase falten und das BLS model darstellen:"
   ]
  },
  {
   "cell_type": "code",
   "execution_count": null,
   "id": "da02f862",
   "metadata": {},
   "outputs": [],
   "source": [
    "planet_c_model = bls.get_transit_model(period=planet_c_period,\n",
    "                                       transit_time=planet_c_t0,\n",
    "                                       duration=planet_c_dur)\n",
    "\n",
    "ax = lc.fold(planet_c_period, planet_c_t0).scatter()\n",
    "planet_c_model.fold(planet_c_period, planet_c_t0).plot(ax=ax, c='r', lw=2)\n",
    "ax.set_xlim(-5, 5)\n",
    "plt.show()"
   ]
  },
  {
   "cell_type": "markdown",
   "id": "ec0ef45d",
   "metadata": {},
   "source": [
    "Wir sehen, dass im Model nur ein Transit in der Mitte liegt, allerdings sehen wir auch Datenpunkte die einen geringenren Flux haben rechts und links vom Plot. Diese können wir besser zeigen, wenn wir den Flux einmal \"binnen\":"
   ]
  },
  {
   "cell_type": "code",
   "execution_count": null,
   "id": "3125717b",
   "metadata": {},
   "outputs": [],
   "source": [
    "ax = masked_lc.fold(planet_c_period, planet_c_t0).scatter()\n",
    "masked_lc.fold(planet_c_period, planet_c_t0).bin(.1).scatter(ax=ax, c='r', lw=2,\n",
    "                                                          label='Binned Flux')\n",
    "ax.set_xlim(-5, 5)\n",
    "plt.show()"
   ]
  },
  {
   "cell_type": "markdown",
   "id": "b60e9831",
   "metadata": {},
   "source": [
    "Wir sehen hier deutlich klarer, dass der Transit auch am Rand von diesem Plot liegt. Das heißt der Transit passiert zu einer Period, die die Hälfte des Models ist. Das ist somit die Period, die wir zuvor gefunden haben und es handelt sich bei diesem Signal nicht um einen neuen Planeten.\n",
    "\n",
    "Hast Du eine Idee, wieso der Algorithmus dieses Signal troztdem gefunden hat?"
   ]
  }
 ],
 "metadata": {
  "kernelspec": {
   "display_name": "outreach",
   "language": "python",
   "name": "python3"
  },
  "language_info": {
   "codemirror_mode": {
    "name": "ipython",
    "version": 3
   },
   "file_extension": ".py",
   "mimetype": "text/x-python",
   "name": "python",
   "nbconvert_exporter": "python",
   "pygments_lexer": "ipython3",
   "version": "3.11.13"
  }
 },
 "nbformat": 4,
 "nbformat_minor": 5
}
