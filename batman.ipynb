{
 "cells": [
  {
   "cell_type": "markdown",
   "metadata": {
    "id": "Ou2Dv8BWNGi5"
   },
   "source": [
    "# Exoplanet Transit Lichtkurven mit `batman`\n",
    "\n",
    "In diesem Notebook kreieren wir Transit Lightcurves für verschiedene Exoplaneten. Dazu nutzen wir das Python Package `batman`\n",
    "\n",
    "- batman Dokumentation: https://lkreidberg.github.io/batman/docs/html/index.html\n",
    "- batman Code: https://github.com/lkreidberg/batman\n"
   ]
  },
  {
   "cell_type": "markdown",
   "metadata": {
    "id": "5IpSxrf6NGi7"
   },
   "source": [
    "## Import von den benötigten Python Packages"
   ]
  },
  {
   "cell_type": "code",
   "execution_count": null,
   "metadata": {
    "executionInfo": {
     "elapsed": 4,
     "status": "ok",
     "timestamp": 1742481058945,
     "user": {
      "displayName": "Orbyts",
      "userId": "04029330621133876034"
     },
     "user_tz": 0
    },
    "id": "9tzSsaOHNGi8"
   },
   "outputs": [],
   "source": [
    "import copy\n",
    "import matplotlib.pyplot as plt\n",
    "import numpy as np\n",
    "import batman"
   ]
  },
  {
   "cell_type": "markdown",
   "metadata": {
    "id": "3FQ4CjqcNGjA"
   },
   "source": [
    "## Beispiel: KELT-11 b\n",
    "\n",
    "Hier benutzen wir batman, um eine Lichtkurve für den Exoplaneten KELT-11 b zu kreieren.\n",
    "\n",
    "KELT-11 b ist ein Exoplanet, der einen relativ hellen Stern in etwas 5 Tagen umkreist. Seine Masse ist ein Zehntel der Masse von Jupiter, aber sein Radius ist größer. Das heißt im Vergleich zu Jupiter ist dieser Planet aufgeblasen. Der Planet umkreist seinen Stern in einer kurzen Umlaufzeit, das heißt der Abstand zwischen dem Planeten un dem Stern ist relativ klein (6% des Abstands zwischen Sonne und Erde). Somit hat der Planet auch eine heiße Equilibriumstemperatur (1700 K).\n",
    "\n",
    "Wie für jeden bekannten Exoplaneten, lassen sich weitere Informationen über KELT-11 b im NASA Exoplanet Archive finden:\n",
    "https://exoplanetarchive.ipac.caltech.edu/overview/kelt-11\n"
   ]
  },
  {
   "cell_type": "markdown",
   "metadata": {
    "id": "jhuF9IpgNGjB"
   },
   "source": [
    "### Transit Parameter"
   ]
  },
  {
   "cell_type": "markdown",
   "metadata": {
    "id": "urf-NaEzNGjC"
   },
   "source": [
    "Zuerst geben wir die Parameter von KELT-11 b in batman ein. Dazu kreieren wir `TransitParams` Objekt:"
   ]
  },
  {
   "cell_type": "code",
   "execution_count": null,
   "metadata": {
    "colab": {
     "base_uri": "https://localhost:8080/",
     "height": 141
    },
    "executionInfo": {
     "elapsed": 59,
     "status": "error",
     "timestamp": 1740397635971,
     "user": {
      "displayName": "Orbyts",
      "userId": "04029330621133876034"
     },
     "user_tz": 0
    },
    "id": "nNHbtFSANGjD",
    "outputId": "fe03ac1c-fd60-4c0e-c41a-5edda00fefb8"
   },
   "outputs": [],
   "source": [
    "params_kelt11b = batman.TransitParams()"
   ]
  },
  {
   "cell_type": "markdown",
   "metadata": {
    "id": "B85IDPruNGjD"
   },
   "source": [
    "Nun können wir die Parameter des System hinzufügen. Diese findet ihr im NASA Exoplanet Archive."
   ]
  },
  {
   "cell_type": "markdown",
   "metadata": {
    "id": "7HQkXa0RNGjD"
   },
   "source": [
    "#### Mid-transit Zeit `t0`\n",
    "\n",
    "Die mid-transit Zeit $t_0$ (oder auch $T_c$) ist der Zeitpunkt, zu dem der Exoplanet im Zentrum des Transits ist. Sie wird oft auch nur als Transit Time bezeichnet.\n",
    "\n",
    "Da Exoplaneten ihren Stern umkreisen, gibt es viele mid-transit times. Deswegen sind im NASA Exoplanet Archive manchmal auch verschiedene Werte gelistest, je nachdem welche Daten analysisert wurden.\n",
    "\n",
    "Für KELT-11 b ist eine aktuell veröffentlichte transit time 2458255.43247 Tage. Diese benutzen wir in dieser Analyse und setzen sie in die folgende Zelle ein:\n"
   ]
  },
  {
   "cell_type": "code",
   "execution_count": null,
   "metadata": {
    "id": "DhUZYhb_NGjE"
   },
   "outputs": [],
   "source": [
    "# Transit time\n",
    "params_kelt11b.t0 = 2458255.43247"
   ]
  },
  {
   "cell_type": "markdown",
   "metadata": {
    "id": "a1yLO1jRNGjE"
   },
   "source": [
    "#### Orbital period `per`\n",
    "\n",
    "Die Umlaufzeit des Planeten (oder Orbital Period) $P$ ist die Zeit, die ein Planet braucht um seinen Stern einmal zu umkreisen. In batman wird diese in Tagen angegeben. \n",
    "\n",
    "KELT-11 b hat eine Ulaufzeit von 4.73610 days."
   ]
  },
  {
   "cell_type": "code",
   "execution_count": null,
   "metadata": {
    "id": "bFUqn4-UNGjE"
   },
   "outputs": [],
   "source": [
    "# Orbital period (in days)\n",
    "params_kelt11b.per = 4.73610"
   ]
  },
  {
   "cell_type": "markdown",
   "metadata": {
    "id": "KboTj2BaNGjE"
   },
   "source": [
    "#### Planetenradius `rp`\n",
    "\n",
    "Der Planetenradius $R_p$ gibt die Größe des Planeten an. Einen Radius kann man in Metern, Kilometern etc angeben. In der Astronomie geben wir Radii von Planeten normalerweise in Erdradii ($\\rm{R_\\oplus}$) oder Jupiterradii ($\\rm{R_J}$) an.\n",
    "- KELT-11 b hat einen Radius von 15.1 mal den Erdradius: 15.1 $\\rm{R_\\oplus}$. Das heißt der Planet ist 15.1 mal größer als die Erde.\n",
    "- In Jupiterradii, KELT-11 b hat einen Radius von 1.35 $\\rm{R_J}$. Das heißt der Planet ist 1.35 mal größer als Jupiter.\n",
    "\n",
    "Ein anderer Weg um die Größe von Exoplaneten auszudrücken, ist es deren Radius relativ zum Radius des Sterns, den sie umkreisen, anzugeben. Das heißt der Radius wird in stellaren Radii angegeben. Um dies zu berechnen, teilt man den Planetenradius durch den Sternradius. Wichtig hierbei ist, dass beide Radii in derselben Einheit sind. \n",
    "Dieser Wert ist normal auch im NASA Exoplanet Archive aufgeführt als $R_p / R_*$.\n",
    "\n",
    "`batman` benutzt als Einheit des Planeten Radius des stellaren Radius. \n",
    "\n",
    "Für KELT-11 b ist der Planetenradius 0.0514 $R_*$. Das heißt der Planetenradius ist 5% des Radius seines Sterns.\n",
    "\n",
    "Diesen Wert setzen wir nun in `batman` für den Planetenradius ein."
   ]
  },
  {
   "cell_type": "code",
   "execution_count": null,
   "metadata": {
    "id": "Gleu4DRHNGjF"
   },
   "outputs": [],
   "source": [
    "# Planet radius (in units of stellar radii)\n",
    "params_kelt11b.rp = 0.0514"
   ]
  },
  {
   "cell_type": "markdown",
   "metadata": {
    "id": "vC9vUckENGjF"
   },
   "source": [
    "#### Inklination `inc`\n",
    "\n",
    "Die Inklination $i$ ist der Winkel zwischen der senkrechten Richtung der Orbitebene des Planeten (die Ebene, in der sich der Planet bewegt) und unserer Sichtlinie.\n",
    "\n",
    "Wenn die Inklination 90 Grad ist, heißt das, wir sehen das Planetensystem \"edge on\" und somit transiting. Die Systeme, die wir analysieren werden, haben eine Inklination dicht an 90 Grad.\n",
    "\n",
    "Wenn die Inklination 0 Grad ist, sehen wir das Planetensystem \"pole on\". In dieser Konfiguration werden wir keine Transits beobachten können.  \n",
    "\n",
    "KELT-11 b hat eine Inklination von 85.3 Grad, welche wir in die folgende Zelle infügen:"
   ]
  },
  {
   "cell_type": "code",
   "execution_count": null,
   "metadata": {
    "id": "by7c_CKeNGjG"
   },
   "outputs": [],
   "source": [
    "# Orbital inclination, in degrees\n",
    "params_kelt11b.inc = 85.3"
   ]
  },
  {
   "cell_type": "markdown",
   "metadata": {
    "id": "Lb3fMZbzNGjG"
   },
   "source": [
    "#### Exzentrizität `ecc`\n",
    "\n",
    "\n",
    "\n",
    "Die Exzentrizität $e$ gibt an wie kreisförmig oder exzentrisch der Orbit des Planeten ist.\n",
    "\n",
    "- Ist die Exzentrizität 0, ist der Orbit des Planeten komplett kreisförmig.\n",
    "- Ist die Exzentrizität größer als 0 aber kleiner als 1, ist der Orbit des Planeten exzentrisch.\n",
    "- Ist die Exzentrizität 1, ist der Orbit des Planeten eine Parabola und nicht geschlossen. Ist die Exzentrizität größer als 1 ist der Orbit eine Hyperbola. Objekte mit solchen Exzentrizitäten kommen dem Stern somit nur einmal nah. Beispielsweise Kometen haben hohe Exzentrizitäten.\n",
    "\n",
    "Alle Planeten, die wir uns anschauen, sind aus kreisförmigen oder exzentrischen Orbits.\n",
    "Die Exzentrizität der Erde ist $e = 0.0167$. Das ist ein sehr kleiner Wert und somit ist der Orbit der Erde nahezu ein perfekter Kreis.\n",
    "\n",
    "Auch KELT-11 b hat eine kleine Exzentrizität, diese ist 0.00070."
   ]
  },
  {
   "cell_type": "code",
   "execution_count": null,
   "metadata": {
    "id": "6ewYqIY6NGjG"
   },
   "outputs": [],
   "source": [
    "# Eccenticity\n",
    "params_kelt11b.ecc = 0.00070"
   ]
  },
  {
   "cell_type": "markdown",
   "metadata": {
    "id": "ZfsQjLKZNGjG"
   },
   "source": [
    "#### Große Halbachse `a`\n",
    "\n",
    "Die große Halbachse, ist die maximale Distanz zwischen dem Planeten und dem Stern.\n",
    "\n",
    "Dieser Wert gibt eine Distanz and, somit kann er in Metern oder Kilometern ausgedrückt werden. Allerdings, ähnlich wie beim Planetenradius, drücken wir die große Halbachse in anderen Einheiten, wie dem stellaren Radius aus. Auch dieser wird normal im NASA Exoplanet Archive aufegführt als $a / R_*$.\n",
    "\n",
    "Für KELT-11 b ist die große Halbachse 4.98 $R_*$."
   ]
  },
  {
   "cell_type": "code",
   "execution_count": null,
   "metadata": {
    "id": "Ws2x69f-NGjH"
   },
   "outputs": [],
   "source": [
    "# Semi-major axis, in units of stellar radii\n",
    "params_kelt11b.a = 4.98"
   ]
  },
  {
   "cell_type": "markdown",
   "metadata": {
    "id": "ozT4MYupNGjH"
   },
   "source": [
    "#### Argument der Periapsis `w`\n",
    "\n",
    "Das Argument der Periapsis ist der Winkel der nähesten Entfernung gemessen in der Bewegungsrichtung.\n",
    "Dies ist meist schwer zu messen, somit setzen wir es für all unsere Analysen auf 90 Grad."
   ]
  },
  {
   "cell_type": "code",
   "execution_count": null,
   "metadata": {
    "id": "gd_E-3WlNGjH"
   },
   "outputs": [],
   "source": [
    "# Longitude of periastron (in degrees)\n",
    "params_kelt11b.w = 90."
   ]
  },
  {
   "cell_type": "markdown",
   "metadata": {
    "id": "_COyXdeiNGjH"
   },
   "source": [
    "#### Randverdunkelung\n",
    "\n",
    "Wenn wir uns die Sonne anschauen, ist diese nicht überall gleich hell. Sie erscheint heller im Zentrum als am Rand. Dieser optische Effekt heißt Randverdunkelung (Limb Darkening) und tritt bei allen Sternen auf.\n",
    "Diese Helligkeitsschwankungen erscheinen, da wir uns verschiedene Bereiche der Sonne anschauen.\n",
    "\n",
    "Wenn der Transit eines Planeten beginnt, blockiert der Planet zuerst das Licht vom Rand des Sterns und erst im Laufe des Transits das Licht vom Zentrum. Da das Licht von diesen Bereichen verschieden ist, blockiert der Planet verschieden viel Licht. Das beeinflusst die Form des Transits. Somit berücksichtigen Transitmodelle wie `batman` diese Randverdunkelung.\n",
    "\n",
    "Auch die Randverdunkelung ist schwierig zu messen. Deswegen benuzten wir hier gegegebene Werte.\n"
   ]
  },
  {
   "cell_type": "code",
   "execution_count": null,
   "metadata": {
    "id": "1AMtkeUPNGjI"
   },
   "outputs": [],
   "source": [
    "# Limb darkening model\n",
    "params_kelt11b.limb_dark = \"quadratic\"\n",
    "\n",
    "# Limb darkening coefficients\n",
    "params_kelt11b.u = [0.5, 0.5]"
   ]
  },
  {
   "cell_type": "markdown",
   "metadata": {
    "id": "YvD71CrtNGjI"
   },
   "source": [
    "### Zeit\n",
    "\n",
    "Nachdem wir alle Parameter, die `batman` benötigt, definiert haben, kreieren wir einen Array der Zeit, für die wir das Transitmodell erstellen. Damit wir den Transit sehen können, nehmen wir Zeiten die nah an der mid-transit Zeit, `params_kelt11b.t0`, sind. Unser Array beginnt einen halben Tag bevor und endet einen halben Tag nach der mid-transit Zeit. Dabei gehen wir in Schritten von 0.01 Tagen. "
   ]
  },
  {
   "cell_type": "code",
   "execution_count": null,
   "metadata": {
    "id": "oN1nDUgiNGjI"
   },
   "outputs": [],
   "source": [
    "t = np.arange(params_kelt11b.t0-0.5, params_kelt11b.t0+0.5, 0.01)"
   ]
  },
  {
   "cell_type": "markdown",
   "metadata": {
    "id": "dggyd8pQNGjI"
   },
   "source": [
    "### Model\n",
    "\n",
    "Nun berehcnen wir das Model. Dazu fügen wir unsere vorher definierten Paramter des Systems, `params_kelt11b`, und unsere Zeiten, `t`, in das `batman` Transit Model ein."
   ]
  },
  {
   "cell_type": "code",
   "execution_count": null,
   "metadata": {
    "id": "iM37uSLjNGjI"
   },
   "outputs": [],
   "source": [
    "# Initialise model\n",
    "model = batman.TransitModel(params_kelt11b, t)"
   ]
  },
  {
   "cell_type": "markdown",
   "metadata": {
    "id": "zvZ3ScgHNGjI"
   },
   "source": [
    "Nun berechnen wir den Flux der Lichtkurve:"
   ]
  },
  {
   "cell_type": "code",
   "execution_count": null,
   "metadata": {
    "id": "yzruLxuCNGjJ"
   },
   "outputs": [],
   "source": [
    "# Calculate light curve\n",
    "flux = model.light_curve(params_kelt11b)"
   ]
  },
  {
   "cell_type": "markdown",
   "metadata": {
    "id": "YHQ_PLLFNGjJ"
   },
   "source": [
    "### Plot\n",
    "\n",
    "Den berechneten Flux können wir uns jetzt als eine Funktion der Zeit anschauen:"
   ]
  },
  {
   "cell_type": "code",
   "execution_count": null,
   "metadata": {
    "id": "ziicFtJhNGjJ"
   },
   "outputs": [],
   "source": [
    "fig, ax = plt.subplots()\n",
    "ax.plot(t, flux, 'black')\n",
    "ax.set(xlabel = 'Time', ylabel = 'Relative flux', title='KELT-11 b transit model')\n",
    "ax.set_ylim(0.996,1.0001)\n",
    "plt.show(), plt.close()"
   ]
  },
  {
   "cell_type": "markdown",
   "metadata": {
    "id": "JcJOa-m2NGjK"
   },
   "source": [
    "## Erstellung einer Lichtkurve für euren Planeten\n",
    "\n",
    "Ihr solltet euch schon für einen Planeten in einer vorherigen Session entschieden haben. Zu diesem könnt ihr auf dem NASA Exoplanet Archive die Parameter finden: https://exoplanetarchive.ipac.caltech.edu/\n"
   ]
  },
  {
   "cell_type": "markdown",
   "metadata": {
    "id": "wEcd-S6VNGjK"
   },
   "source": [
    "### Parameter\n",
    "\n",
    "Füllt die aktuellsten Parameter eures Planeten in den Code hier ein:"
   ]
  },
  {
   "cell_type": "code",
   "execution_count": null,
   "metadata": {
    "id": "drc1APnNNGjK"
   },
   "outputs": [],
   "source": [
    "params = batman.TransitParams()\n",
    "\n",
    "# Transit time (this is Tc in the NASA exoplanet archive)\n",
    "params.t0 = \n",
    "\n",
    "# Orbital period, in days (this is P in the NASA exoplanet archive)\n",
    "params.per = \n",
    "\n",
    "# Planet radius, in units of stellar radii\n",
    "params.rp = \n",
    "\n",
    "# Orbital inclination, in degrees (this is \"i\" in the NASA exoplanet archive)\n",
    "params.inc = \n",
    "\n",
    "# Semi-major axis, in units of stellar radii\n",
    "params.a = \n",
    "params.a = \n",
    "\n",
    "# Eccenticity (this is \"e\" in the NASA exoplanet archive)\n",
    "params.ecc = \n",
    "\n",
    "# Longitude of periastron, in degrees -> Leave default\n",
    "params.w = 90.\n",
    "\n",
    "# Limb darkening model -> Leave default\n",
    "params.limb_dark = \"quadratic\"\n",
    "\n",
    "# Limb darkening coefficients -> Leave default\n",
    "params.u = [0.5, 0.5]"
   ]
  },
  {
   "cell_type": "markdown",
   "metadata": {
    "id": "mDVdWbycNGjK"
   },
   "source": [
    "### Zeit\n",
    "\n",
    "Wir benuzten denselben Code für die Zeit wie bei KELT-11 b"
   ]
  },
  {
   "cell_type": "code",
   "execution_count": null,
   "metadata": {
    "id": "brobcNnXNGjL"
   },
   "outputs": [],
   "source": [
    "t = np.arange(params.t0-0.5, params.t0+0.5, 0.01)"
   ]
  },
  {
   "cell_type": "markdown",
   "metadata": {
    "id": "f-hbquwQNGjL"
   },
   "source": [
    "### Model\n",
    "\n",
    "Und wir erstellen das Model und berechnen den Flux wie zuvor:"
   ]
  },
  {
   "cell_type": "code",
   "execution_count": null,
   "metadata": {
    "id": "hV3TyQp_NGjL"
   },
   "outputs": [],
   "source": [
    "# Initialise model\n",
    "model = batman.TransitModel(params, t)\n"
   ]
  },
  {
   "cell_type": "code",
   "execution_count": null,
   "metadata": {
    "id": "72KRoh6uNGjL"
   },
   "outputs": [],
   "source": [
    "# Calculate light curve\n",
    "flux = model.light_curve(params)"
   ]
  },
  {
   "cell_type": "markdown",
   "metadata": {
    "id": "cKyckG1ONGjL"
   },
   "source": [
    "### Plot\n",
    "\n",
    "Nun könnt ihr das Transitmodell euren Planeten darstellen"
   ]
  },
  {
   "cell_type": "code",
   "execution_count": null,
   "metadata": {
    "id": "dG-cYTYQNGjM"
   },
   "outputs": [],
   "source": [
    "pl_name = 'YOUR PLANET NAME'\n",
    "fig, ax = plt.subplots()\n",
    "ax.plot(t, flux, 'black')\n",
    "ax.set(xlabel = 'Time', ylabel = 'Relative flux', title=f'{pl_name} transit model')\n",
    "ax.set_ylim(0.996,1.0001)\n",
    "plt.show(), plt.close()"
   ]
  },
  {
   "cell_type": "markdown",
   "metadata": {},
   "source": [
    "# Q1 Seht ihr einen Unterschied zu KELT-11 b?\n",
    "Wir diskutieren die Antworten im Plenum"
   ]
  },
  {
   "cell_type": "markdown",
   "metadata": {
    "id": "NBUpZSq2NGjM"
   },
   "source": [
    "### Änderung der Parameter\n",
    "\n",
    "\n",
    "In den folgenden Zellen, könnt ihr die Orbitparameter ändern und schauen, wie das den Transit beeinflusst.\n",
    "\n",
    "Zuerst kopieren wir unsere vorherigen Parameter, damit diese nicht gelöscht werden."
   ]
  },
  {
   "cell_type": "code",
   "execution_count": null,
   "metadata": {
    "id": "hOhquHXF1tes"
   },
   "outputs": [],
   "source": [
    "params_new = copy.deepcopy(params)"
   ]
  },
  {
   "cell_type": "markdown",
   "metadata": {
    "id": "U1ONOeu_NGjM"
   },
   "source": [
    "#### Änderung der mid-transit Zeit\n",
    "\n",
    "Was passiert, wenn ihr die mid-transit Zeit ändert, zB um 0.1 Tage?\n",
    "Dazu füllt ihr eure neue mid-transit Zeit in die folgende Zelle ein, wo `params_new.t0 = ` steht.\n",
    "\n",
    "Die übrige Zelle berechnet das Model und den Flux und erstellt einen Plot mit dem neuen und alten Transit.\n",
    "\n",
    "Was passiert, wenn ihr die mit-transit Zeit um mehr ändert?"
   ]
  },
  {
   "cell_type": "code",
   "execution_count": null,
   "metadata": {
    "id": "hLMeX1_3NGjM"
   },
   "outputs": [],
   "source": [
    "# Change mid-transit time\n",
    "params_new.t0 = \n",
    "\n",
    "# # You might need to change the time array so that it cover your new transit\n",
    "t_new = t  # This simply copies the old time array, but you can change this to an array with new values covering your new t0\n",
    "\n",
    "# Calculate light curve\n",
    "flux_newt0 = model.light_curve(params_new)\n",
    "\n",
    "# Plot light curve\n",
    "fig, ax = plt.subplots()\n",
    "ax.plot(t, flux, label=f'Original t0')\n",
    "ax.plot(t_new, flux_newt0, label=f'New t0')\n",
    "ax.legend()\n",
    "ax.set(xlabel = 'Time', ylabel = 'Relative flux', title=f'{pl_name} transit model')\n",
    "ax.set_ylim(0.996,1.0001)\n",
    "plt.show()"
   ]
  },
  {
   "cell_type": "markdown",
   "metadata": {
    "id": "UI0-VXwc3hmN"
   },
   "source": [
    "#### Änderung der Umlaufzeit\n",
    "\n",
    "Was ändert sich, wenn die Umlaufzeit 50 mal kürzer als der vorherige Wert ist?\n",
    "Ändere dies mit `params_new.per = `."
   ]
  },
  {
   "cell_type": "code",
   "execution_count": null,
   "metadata": {
    "id": "H5lMlxew3vwv"
   },
   "outputs": [],
   "source": [
    "# Reset to original parameters\n",
    "params_new = copy.deepcopy(params)\n",
    "\n",
    "# Change planet radius\n",
    "params_new.per =\n",
    "\n",
    "# Calculate light curve\n",
    "flux_newper = model.light_curve(params_new)\n",
    "\n",
    "# Plot light curve\n",
    "fig, ax = plt.subplots()\n",
    "ax.plot(t, flux, label=f'Original rp')\n",
    "ax.plot(t, flux_newper, label=f'New rp')\n",
    "ax.legend()\n",
    "ax.set(xlabel = 'Time', ylabel = 'Relative flux', title=f'{pl_name} transit model')\n",
    "ax.set_ylim(0.996,1.0001)\n",
    "plt.show(), plt.close()"
   ]
  },
  {
   "cell_type": "markdown",
   "metadata": {
    "id": "lDUTQ7-UNGjN"
   },
   "source": [
    "#### Änderung des Planetenradius\n",
    "\n",
    "Was passiert, wenn das Planetenradius größer ist? Oder kleiner?"
   ]
  },
  {
   "cell_type": "code",
   "execution_count": null,
   "metadata": {
    "id": "sFy8DSzANGjN"
   },
   "outputs": [],
   "source": [
    "# Reset to original parameters\n",
    "params_new = copy.deepcopy(params)\n",
    "\n",
    "# Change planet radius\n",
    "params_new.rp =\n",
    "\n",
    "# Calculate light curve\n",
    "flux_newper = model.light_curve(params_new)\n",
    "\n",
    "# Plot light curve\n",
    "fig, ax = plt.subplots()\n",
    "ax.plot(t, flux, label=f'Original rp')\n",
    "ax.plot(t, flux_newper, label=f'New rp')\n",
    "ax.legend()\n",
    "ax.set(xlabel = 'Time', ylabel = 'Relative flux', title=f'{pl_name} transit model')\n",
    "ax.set_ylim(0.996,1.0001)\n",
    "plt.show(), plt.close()"
   ]
  },
  {
   "cell_type": "markdown",
   "metadata": {
    "id": "zSIZIr7XNGjN"
   },
   "source": [
    "#### Änderung der Inklination\n",
    "\n",
    "Was ändert sich, bei eine Inklination dicht zu 90 Grad? Oder 60 Grad? Was wenn die Inklination komplett anders ist? Verschwindet der Transit?"
   ]
  },
  {
   "cell_type": "code",
   "execution_count": null,
   "metadata": {
    "id": "JHDagLppNGjN"
   },
   "outputs": [],
   "source": [
    "# Reset to original parameters\n",
    "params_new = copy.deepcopy(params)\n",
    "\n",
    "# Change planet radius\n",
    "params_new.inc =\n",
    "\n",
    "# Calculate light curve\n",
    "flux_newinc = model.light_curve(params_new)\n",
    "\n",
    "# Plot light curve\n",
    "fig, ax = plt.subplots()\n",
    "ax.plot(t, flux, label=f'Original inc')\n",
    "ax.plot(t, flux_newinc, label=f'New inc')\n",
    "ax.legend()\n",
    "ax.set(xlabel = 'Time', ylabel = 'Relative flux', title=f'{pl_name} transit model')\n",
    "ax.set_ylim(0.996,1.0001)\n",
    "plt.show(), plt.close()"
   ]
  },
  {
   "cell_type": "markdown",
   "metadata": {
    "id": "6Qhv7By9NGjO"
   },
   "source": [
    "#### Änderung der großen Halbachse\n",
    "\n",
    "Was passiert, wenn sich die große Halbachse ändert?"
   ]
  },
  {
   "cell_type": "code",
   "execution_count": null,
   "metadata": {
    "id": "CcuMumhUNGjO"
   },
   "outputs": [],
   "source": [
    "# Reset to original parameters\n",
    "params_new = copy.deepcopy(params)\n",
    "\n",
    "# Change planet semi-major axis\n",
    "params_new.a =\n",
    "\n",
    "# Calculate light curve\n",
    "flux_newa = model.light_curve(params_new)\n",
    "\n",
    "# Plot light curve\n",
    "fig, ax = plt.subplots()\n",
    "ax.plot(t, flux, label=f'Original a')\n",
    "ax.plot(t, flux_newa, label=f'New a')\n",
    "ax.legend()\n",
    "ax.set(xlabel = 'Time', ylabel = 'Relative flux', title=f'{pl_name} transit model')\n",
    "ax.set_ylim(0.996,1.0001)\n",
    "plt.show(), plt.close()"
   ]
  }
 ],
 "metadata": {
  "colab": {
   "provenance": [
    {
     "file_id": "1u1Y5kh33i3qZbVUPejlUHDUXOHKhe6Fk",
     "timestamp": 1739180018461
    }
   ],
   "toc_visible": true
  },
  "kernelspec": {
   "display_name": "juliet",
   "language": "python",
   "name": "python3"
  },
  "language_info": {
   "codemirror_mode": {
    "name": "ipython",
    "version": 3
   },
   "file_extension": ".py",
   "mimetype": "text/x-python",
   "name": "python",
   "nbconvert_exporter": "python",
   "pygments_lexer": "ipython3",
   "version": "3.11.13"
  }
 },
 "nbformat": 4,
 "nbformat_minor": 0
}
