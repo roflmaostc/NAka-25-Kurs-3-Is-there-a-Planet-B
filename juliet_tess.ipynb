{
 "cells": [
  {
   "cell_type": "markdown",
   "metadata": {
    "id": "bXntCoYUX4Nt"
   },
   "source": [
    "# Juliet Tutorial\n",
    "\n",
    "Juliet ist ein Programm, um die Transitparameter von Planeten zu finden basierend auf den Daten. Dazu benutzt es nested sampling. \n",
    "\n",
    "Mehr infos könnt ihr hier finden: https://juliet.readthedocs.io/en/latest/\n"
   ]
  },
  {
   "cell_type": "markdown",
   "metadata": {},
   "source": [
    "## Zuerst laden wir die python packages, die wir benötigen:"
   ]
  },
  {
   "cell_type": "code",
   "execution_count": null,
   "metadata": {
    "colab": {
     "base_uri": "https://localhost:8080/"
    },
    "executionInfo": {
     "elapsed": 13928,
     "status": "ok",
     "timestamp": 1746533750857,
     "user": {
      "displayName": "Orbyts",
      "userId": "04029330621133876034"
     },
     "user_tz": -60
    },
    "id": "mB0tVRcaYvbP",
    "outputId": "14114ed8-496e-42e6-a443-618fbb98abb6"
   },
   "outputs": [],
   "source": [
    "import juliet\n",
    "import numpy as np\n",
    "import pandas as pd\n",
    "import matplotlib.pyplot as plt\n",
    "from astroquery.mast import Catalogs, Observations\n",
    "from tess_stars2px import tess_stars2px_function_entry\n",
    "import os\n",
    "from astropy.io import fits\n",
    "import corner\n",
    "import astropy.constants as astrocon"
   ]
  },
  {
   "cell_type": "markdown",
   "metadata": {},
   "source": [
    "## Daten\n",
    "Wir haben bereits gelernt, wie man mit `lightkurve` Daten herunterlädt. Dies kann man auch durch mit astroquery machen. Dies speichert die Daten in einem Ordner, den man einfach angeben kann: \n",
    "\n",
    "Für das folgende Script nennt ihr diesen Ordner TESS und er sollte in dem Pfad sein, den ihr später angebt. Ansonsten müsst ihr ein paar Zeilen im Code ändern.\n"
   ]
  },
  {
   "cell_type": "code",
   "execution_count": null,
   "metadata": {},
   "outputs": [],
   "source": [
    "tic=55092869\n",
    "\n",
    "# Get SPOC light curves\n",
    "obsTable = Observations.query_criteria(provenance_name=\"TESS-SPOC\",\n",
    "                                    target_name=tic,\n",
    "                                    dataproduct_type='timeseries'\n",
    "                                    )\n",
    "    \n",
    "data = Observations.get_product_list(obsTable)\n",
    "print(data) # Check that this is not empty (else you might only have QLP data -> talk to me!)\n",
    "download_lc = Observations.download_products(data,  extension=\"_lc.fits\", download_dir='/Users/yoshi/Desktop/KELT11/')"
   ]
  },
  {
   "cell_type": "markdown",
   "metadata": {},
   "source": [
    "Am einfachsten (oder so mache zumindest ich es) ist es, die Dateien in einen Ordner zu bewegen, den ihr leichter finden könnt und der nicht so verschachtelt ist. Dabei könnt ihr die Dateien auch zu TIC_Sektor.fits umbennen. Das macht das öffnen zu dem wir gleich kommen leichter. "
   ]
  },
  {
   "cell_type": "markdown",
   "metadata": {},
   "source": [
    "Hier geben wir den Pfad zu dem Ordner an, in dem die Dateien gespeichert sind:"
   ]
  },
  {
   "cell_type": "code",
   "execution_count": null,
   "metadata": {
    "executionInfo": {
     "elapsed": 12,
     "status": "ok",
     "timestamp": 1746533840495,
     "user": {
      "displayName": "Orbyts",
      "userId": "04029330621133876034"
     },
     "user_tz": -60
    },
    "id": "yTy1-Craa7vh"
   },
   "outputs": [],
   "source": [
    "path='/Users/yoshi/Documents/Outreach/NAka25/'"
   ]
  },
  {
   "cell_type": "markdown",
   "metadata": {},
   "source": [
    "Jetzt schauen wir, in welchen Sektoren der Stern observiert wurde. Das machen wir mit `tess-point`. Diese Funktion benötigt neben der TIC ID, die Koordinaten. Diese erhalten wir aus dem TIC.\n",
    "\n",
    "Gib hierzu die TIC ID, die du auf ExoFOP gefunden hast, deines Sternes ein. "
   ]
  },
  {
   "cell_type": "code",
   "execution_count": null,
   "metadata": {
    "colab": {
     "base_uri": "https://localhost:8080/"
    },
    "executionInfo": {
     "elapsed": 1268,
     "status": "ok",
     "timestamp": 1746533792664,
     "user": {
      "displayName": "Orbyts",
      "userId": "04029330621133876034"
     },
     "user_tz": -60
    },
    "id": "T3yyj74bZQGs",
    "outputId": "977c0fda-9fac-4131-bb98-11882bf8327d"
   },
   "outputs": [],
   "source": [
    "tic=55092869 #Enter the TIC ID here\n",
    "# Query the TIC for that target\n",
    "catalog_data = Catalogs.query_object(f\"TIC {tic}\", catalog=\"TIC\")\n",
    "row = catalog_data[0]\n",
    "# Get the coordinates of the target from the TIC\n",
    "ra = row['ra']\n",
    "dec = row['dec']\n",
    "# Use tess-point to obtain the sectors\n",
    "result=tess_stars2px_function_entry(tic, ra, dec)\n",
    "sectors=result[3]\n",
    "#Filter since TESS is currently in sector 87 (Jan 2025) and a lot of more recent sectors aren't available yet\n",
    "sectors=sectors[sectors<85]\n",
    "print(sectors)"
   ]
  },
  {
   "cell_type": "markdown",
   "metadata": {},
   "source": [
    "Um den Planeten Radius zu bestimmen, benötigen wir den Radius des Sterns. Auch dieser ist im TIC und wir rufen ihn hier schon mal auf für später.\n",
    "Auch kann man von Transits die Dichte des Sterns bestimmen. Diese können wir mit den bekannten Werten für Radius und Masse ausrechnen:"
   ]
  },
  {
   "cell_type": "code",
   "execution_count": null,
   "metadata": {
    "executionInfo": {
     "elapsed": 4,
     "status": "ok",
     "timestamp": 1746533793355,
     "user": {
      "displayName": "Orbyts",
      "userId": "04029330621133876034"
     },
     "user_tz": -60
    },
    "id": "4IuxbgUuaeJ-"
   },
   "outputs": [],
   "source": [
    "r_star=row['rad']*astrocon.R_sun.value\n",
    "m_star=row['mass']*astrocon.M_sun.value # nan\n",
    "print(r_star)\n",
    "rhostar = m_star/((4*np.pi/3)*r_star**3) # Not working for KELT 11 since mass in nan in TIC (would have to enter a value manually)\n",
    "print(rhostar)"
   ]
  },
  {
   "cell_type": "markdown",
   "metadata": {},
   "source": [
    "Zuerst schauen wir uns die Daten von einem Sektor (in diesem Fall Sektor 9) an, sodass wir Transits sehen können:"
   ]
  },
  {
   "cell_type": "code",
   "execution_count": null,
   "metadata": {
    "colab": {
     "base_uri": "https://localhost:8080/",
     "height": 295
    },
    "collapsed": true,
    "executionInfo": {
     "elapsed": 8006,
     "status": "ok",
     "timestamp": 1746533803264,
     "user": {
      "displayName": "Orbyts",
      "userId": "04029330621133876034"
     },
     "user_tz": -60
    },
    "id": "0vZc35Jc9cfs",
    "outputId": "c1d5de92-02b3-4b13-e208-c4decf8a7100"
   },
   "outputs": [],
   "source": [
    "time=[]\n",
    "flux=[]\n",
    "# Select the sector\n",
    "sec=9\n",
    "# Open the fits file and access the data\n",
    "lc=os.path.join(path,f\"TESS/{tic}_{sec}.fits\")\n",
    "hdul = fits.open(lc)\n",
    "t=hdul[1].data['TIME']\n",
    "f=hdul[1].data['PDCSAP_FLUX'] # detrended flux \n",
    "# Removing bad quality data points\n",
    "quality=hdul[1].data['QUALITY']\n",
    "t=t[quality==0]\n",
    "f=f[quality==0]\n",
    "# Removing nan values\n",
    "t=t[~np.isnan(f)]\n",
    "f=f[~np.isnan(f)]\n",
    "f=f/np.mean(f) # normalising the data\n",
    "# appending the data to the lists above\n",
    "time.extend(t)\n",
    "flux.extend(f)\n",
    "\n",
    "# Plotting\n",
    "fig, ax = plt.subplots(figsize=(16,6))\n",
    "ax.plot(time, flux, '.')\n",
    "ax.set_xlabel('Time (TBJD)')\n",
    "ax.set_ylabel('Detrended and normalised flux')\n",
    "ax.set_title('KELT-11 TESS data, sector 9')\n",
    "ax.minorticks_on()\n",
    "plt.show()"
   ]
  },
  {
   "cell_type": "markdown",
   "metadata": {},
   "source": [
    "Wir können nun probieren, den Transit zu modellieren, indem wir batman nutzen. In diesem Code plotten wir die Daten und das batman model. Spiel mit P, t0 und rp herum und schaue, ob Du es schaffst die Daten gut zu modellieren."
   ]
  },
  {
   "cell_type": "code",
   "execution_count": null,
   "metadata": {
    "colab": {
     "base_uri": "https://localhost:8080/",
     "height": 382
    },
    "executionInfo": {
     "elapsed": 467,
     "status": "ok",
     "timestamp": 1743001905529,
     "user": {
      "displayName": "Orbyts",
      "userId": "04029330621133876034"
     },
     "user_tz": 0
    },
    "id": "hrVV51Cj9fq9",
    "outputId": "3c002ad2-2f23-4edb-8415-055fcd117dd1"
   },
   "outputs": [],
   "source": [
    "# batman model\n",
    "import batman\n",
    "\n",
    "#Enter your guesses here\n",
    "per= 5  \n",
    "t0= 1549       \n",
    "rp=0.04\n",
    "\n",
    "params_kelt11b = batman.TransitParams()\n",
    "\n",
    "params_kelt11b.t0 = t0\n",
    "params_kelt11b.per = per\n",
    "params_kelt11b.rp = rp\n",
    "params_kelt11b.inc = 85.3\n",
    "params_kelt11b.ecc = 0.00070\n",
    "params_kelt11b.a = 4.98\n",
    "params_kelt11b.w = 90.\n",
    "params_kelt11b.limb_dark = \"quadratic\"\n",
    "params_kelt11b.u = [0.5, 0.5]\n",
    "\n",
    "# Set time array to the time of our data, so that we can see the model transits in the plot\n",
    "batman_time = np.array(time)\n",
    "\n",
    "batman_model = batman.TransitModel(params_kelt11b, batman_time)\n",
    "\n",
    "batman_flux = batman_model.light_curve(params_kelt11b)\n",
    "\n",
    "\n",
    "# Plot\n",
    "fig, ax = plt.subplots(figsize=(16,6))\n",
    "ax.plot(time, flux, '.', label='Data')\n",
    "ax.plot(batman_time, batman_flux, c='r', label='Model')\n",
    "ax.set_xlabel('Time [TBJD]')\n",
    "ax.set_ylabel('Detrended and normalised flux')\n",
    "ax.set_title('KELT-11 TESS data, sector 9')\n",
    "ax.legend()\n",
    "ax.minorticks_on()\n",
    "plt.show()"
   ]
  },
  {
   "cell_type": "markdown",
   "metadata": {
    "id": "izDLj84aax2D"
   },
   "source": [
    "Als nächstes lesen wir alles verfügbaren TESS-Daten ein. Dies könnt ihr in einem for-loop machen. Probiert es zunächst selbst!"
   ]
  },
  {
   "cell_type": "code",
   "execution_count": null,
   "metadata": {
    "colab": {
     "base_uri": "https://localhost:8080/"
    },
    "executionInfo": {
     "elapsed": 72,
     "status": "ok",
     "timestamp": 1746533845589,
     "user": {
      "displayName": "Orbyts",
      "userId": "04029330621133876034"
     },
     "user_tz": -60
    },
    "id": "1dfNv8VwatCn",
    "outputId": "9b14bde3-cc66-4b37-bc6e-e205e0ff950e"
   },
   "outputs": [],
   "source": [
    "time=[]\n",
    "flux=[]\n",
    "flux_err=[]\n",
    "# Looping over all observed sectors\n",
    "for sec in sectors:\n",
    "    try:\n",
    "        lc=os.path.join(path,f\"TESS/{tic}_{sec}.fits\")\n",
    "        hdul = fits.open(lc)\n",
    "        t=hdul[1].data['TIME']\n",
    "        f=hdul[1].data['PDCSAP_FLUX']\n",
    "        ferr=hdul[1].data['PDCSAP_FLUX_ERR']\n",
    "        quality=hdul[1].data['QUALITY']\n",
    "        t=t[quality==0]\n",
    "        f=f[quality==0]\n",
    "        ferr=ferr[quality==0]\n",
    "        t=t[~np.isnan(f)]\n",
    "        ferr=ferr[~np.isnan(f)]\n",
    "        f=f[~np.isnan(f)]\n",
    "        ferr=ferr/np.mean(f)\n",
    "        f=f/np.mean(f)\n",
    "        time.extend(t+2457000) # Converting to BJD\n",
    "        flux.extend(f)\n",
    "        flux_err.extend(ferr)\n",
    "    # in case any sectors are missing\n",
    "    except FileNotFoundError:\n",
    "        continue\n",
    "\n",
    "\n",
    "times, fluxes, fluxes_error = {},{},{}\n",
    "times['TESS'], fluxes['TESS'], fluxes_error['TESS'] = np.array(time),np.array(flux),np.array(flux_err)\n",
    "print(times) # check that this is not empty"
   ]
  },
  {
   "cell_type": "markdown",
   "metadata": {
    "id": "QNKwKNGg1kSL"
   },
   "source": [
    "Jetzt können wir alle Daten plotten. In diesem Fall haben wir 2 Sektoren."
   ]
  },
  {
   "cell_type": "code",
   "execution_count": null,
   "metadata": {
    "colab": {
     "base_uri": "https://localhost:8080/",
     "height": 295
    },
    "executionInfo": {
     "elapsed": 478,
     "status": "ok",
     "timestamp": 1746533807848,
     "user": {
      "displayName": "Orbyts",
      "userId": "04029330621133876034"
     },
     "user_tz": -60
    },
    "id": "gDXzk5PT1vau",
    "outputId": "4c9a7b89-9a7c-4122-c90f-96fd4f96e244"
   },
   "outputs": [],
   "source": [
    "fig, ax = plt.subplots(figsize=(16,6))\n",
    "ax.plot(time, flux, '.')\n",
    "ax.set_xlabel('Time [BJD]')\n",
    "ax.set_ylabel('Detrended and normalised flux')\n",
    "ax.set_title('KELT-11 TESS data, sectors 9 and 62')\n",
    "ax.minorticks_on()"
   ]
  },
  {
   "cell_type": "markdown",
   "metadata": {
    "id": "L3vvtVGScZ8O"
   },
   "source": [
    "## Vorbereitung des Fits\n",
    "\n",
    "Um die Transits zu modellieren, fitten wir Daten. Das Model benötigt dazu inputs, damit es ein Model zum Anfangen hat. Es wird die Werte, die wir ihm geben, optimieren.\n",
    "Dazu geben wir P und t0 hier ein (wir ihr sie auf ExoFOP oder Exoplanet Archive findet).\n",
    "\n",
    "Die anderen Parameter können wir in Ruhe lassen (vertraut mir)."
   ]
  },
  {
   "cell_type": "code",
   "execution_count": null,
   "metadata": {
    "executionInfo": {
     "elapsed": 5,
     "status": "ok",
     "timestamp": 1746533810364,
     "user": {
      "displayName": "Orbyts",
      "userId": "04029330621133876034"
     },
     "user_tz": -60
    },
    "id": "FiDVrHz6cZdt"
   },
   "outputs": [],
   "source": [
    "P=4.7361 #in days\n",
    "t0=2457483.431 #in BJD"
   ]
  },
  {
   "cell_type": "code",
   "execution_count": null,
   "metadata": {
    "executionInfo": {
     "elapsed": 3,
     "status": "ok",
     "timestamp": 1746533811493,
     "user": {
      "displayName": "Orbyts",
      "userId": "04029330621133876034"
     },
     "user_tz": -60
    },
    "id": "5tFtmGTCcLDW"
   },
   "outputs": [],
   "source": [
    "priors = {}\n",
    "\n",
    "# Name of the parameters to be fit:\n",
    "params = ['P_p1','t0_p1','p_p1','b_p1','q1_TESS','q2_TESS','ecc_p1','omega_p1',\\\n",
    "              'rho', 'mdilution_TESS', 'mflux_TESS', 'sigma_w_TESS']\n",
    "\n",
    "# Distributions:\n",
    "dists = ['normal','normal','uniform','uniform','uniform','uniform','fixed','fixed',\\\n",
    "                 'loguniform', 'fixed', 'normal', 'loguniform']\n",
    "\n",
    "# Hyperparameters\n",
    "hyperps = [[P,0.1], [t0,0.1], [0.,1], [0.,1.], [0., 1.], [0., 1.], 0.0, 90.,\\\n",
    "                   [100., 10000.], 1.0, [0.,0.1], [0.1, 1000.]]\n",
    "\n",
    "# Populate the priors dictionary:\n",
    "for param, dist, hyperp in zip(params, dists, hyperps):\n",
    "    priors[param] = {}\n",
    "    priors[param]['distribution'], priors[param]['hyperparameters'] = dist, hyperp"
   ]
  },
  {
   "cell_type": "markdown",
   "metadata": {
    "id": "NHhkgNE6dBHJ"
   },
   "source": [
    "Hier geben wir ein, wie der Ordner heißen soll, in dem wir das Ergebnis speichern:"
   ]
  },
  {
   "cell_type": "code",
   "execution_count": null,
   "metadata": {
    "executionInfo": {
     "elapsed": 5,
     "status": "ok",
     "timestamp": 1746533850979,
     "user": {
      "displayName": "Orbyts",
      "userId": "04029330621133876034"
     },
     "user_tz": -60
    },
    "id": "DRaxXNG5dAHS"
   },
   "outputs": [],
   "source": [
    "outdir=path+'KELT11_TESS/'"
   ]
  },
  {
   "cell_type": "markdown",
   "metadata": {
    "id": "hSFFoSPdxcWc"
   },
   "source": [
    "## Jetzt lassen wir juliet seine Arbeit machen "
   ]
  },
  {
   "cell_type": "code",
   "execution_count": null,
   "metadata": {
    "colab": {
     "base_uri": "https://localhost:8080/"
    },
    "executionInfo": {
     "elapsed": 11980,
     "status": "ok",
     "timestamp": 1746533864776,
     "user": {
      "displayName": "Orbyts",
      "userId": "04029330621133876034"
     },
     "user_tz": -60
    },
    "id": "r7n_5ZMOc9SW",
    "outputId": "f20df141-7c25-43c7-a541-1dc49d094995"
   },
   "outputs": [],
   "source": [
    "dataset = juliet.load(priors=priors, t_lc = times, y_lc = fluxes, \n",
    "                   yerr_lc = fluxes_error, out_folder = outdir)\n",
    "\n",
    "results = dataset.fit(n_live_points=300)"
   ]
  },
  {
   "cell_type": "markdown",
   "metadata": {
    "id": "cGDqSJWQxe8s"
   },
   "source": [
    "## Ergebnisse\n",
    "\n",
    "Nach einiger Zeit sollte die Zelle ausgeführt sein und wir können uns die Ergebnisse anschauen:"
   ]
  },
  {
   "cell_type": "code",
   "execution_count": null,
   "metadata": {
    "colab": {
     "base_uri": "https://localhost:8080/",
     "height": 468
    },
    "executionInfo": {
     "elapsed": 7638,
     "status": "ok",
     "timestamp": 1746533897367,
     "user": {
      "displayName": "Orbyts",
      "userId": "04029330621133876034"
     },
     "user_tz": -60
    },
    "id": "8MljYtsjdZ7u",
    "outputId": "ed23b0c1-9395-4743-d386-68c4cffee130"
   },
   "outputs": [],
   "source": [
    "# Get the model\n",
    "transit_model, transit_up68, transit_low68 = results.lc.evaluate('TESS', return_err=True)\n",
    "\n",
    "# Get P and t0\n",
    "P, t0 = np.median(results.posteriors['posterior_samples']['P_p1']),\\\n",
    "        np.median(results.posteriors['posterior_samples']['t0_p1'])\n",
    "\n",
    "# Get the times, flux and model\n",
    "t=dataset.times_lc['TESS']\n",
    "f=dataset.data_lc['TESS']\n",
    "ferr=dataset.errors_lc['TESS']\n",
    "model=transit_model\n",
    "# Get the phase\n",
    "phase=juliet.get_phases(t, P, t0)\n",
    "# Plot all\n",
    "plt.errorbar(phase, f,yerr=ferr, fmt = '.', alpha=0.1)\n",
    "idx = np.argsort(phase)\n",
    "p_bin, y_bin, yerr_bin = juliet.bin_data(phase[idx], f[idx], 200)\n",
    "plt.errorbar(p_bin, y_bin, yerr = yerr_bin, fmt = 'o', mfc = 'white', mec = 'black', ecolor = 'black')\n",
    "\n",
    "plt.plot(phase[idx], model[idx], c='black', zorder=11)\n",
    "plt.fill_between(phase[idx],(transit_up68)[idx],(transit_low68)[idx],color='white',alpha=0.5,zorder=5)\n",
    "plt.xlim(-0.2, 0.2)\n",
    "plt.ylabel('Relative Flux')\n",
    "plt.xlabel('Phases')\n",
    "plt.show()\n"
   ]
  },
  {
   "cell_type": "markdown",
   "metadata": {},
   "source": [
    "Wir lassen uns noch ein paar praktische Werte ausgeben:"
   ]
  },
  {
   "cell_type": "code",
   "execution_count": null,
   "metadata": {
    "executionInfo": {
     "elapsed": 34,
     "status": "ok",
     "timestamp": 1746533993773,
     "user": {
      "displayName": "Orbyts",
      "userId": "04029330621133876034"
     },
     "user_tz": -60
    },
    "id": "KP8A3sq8GpoE"
   },
   "outputs": [],
   "source": [
    "Pm1,Pu1,Pl1 = juliet.utils.get_quantiles(results.posteriors['posterior_samples']['P_p1'])\n",
    "t0m1,t0u1,t0l1 = juliet.utils.get_quantiles(results.posteriors['posterior_samples']['t0_p1'])\n",
    "pm1,pu1,pl1 = juliet.utils.get_quantiles(results.posteriors['posterior_samples']['p_p1'])"
   ]
  },
  {
   "cell_type": "code",
   "execution_count": null,
   "metadata": {
    "colab": {
     "base_uri": "https://localhost:8080/"
    },
    "executionInfo": {
     "elapsed": 10,
     "status": "ok",
     "timestamp": 1746533920247,
     "user": {
      "displayName": "Orbyts",
      "userId": "04029330621133876034"
     },
     "user_tz": -60
    },
    "id": "jvYfF8XCiF-c",
    "outputId": "4d5c4f97-8a64-4b3c-8a58-661a28f59ace"
   },
   "outputs": [],
   "source": [
    "print(Pm1, Pm1-Pu1, Pl1-Pm1)"
   ]
  },
  {
   "cell_type": "code",
   "execution_count": null,
   "metadata": {
    "colab": {
     "base_uri": "https://localhost:8080/"
    },
    "executionInfo": {
     "elapsed": 46,
     "status": "ok",
     "timestamp": 1746533965022,
     "user": {
      "displayName": "Orbyts",
      "userId": "04029330621133876034"
     },
     "user_tz": -60
    },
    "id": "LZttAQ3piIBy",
    "outputId": "7658e1b2-222a-4759-875e-4ab02a24024f"
   },
   "outputs": [],
   "source": [
    "print(t0m1, t0m1-t0u1, t0l1-t0m1)"
   ]
  },
  {
   "cell_type": "code",
   "execution_count": null,
   "metadata": {
    "colab": {
     "base_uri": "https://localhost:8080/"
    },
    "executionInfo": {
     "elapsed": 5,
     "status": "ok",
     "timestamp": 1746534007349,
     "user": {
      "displayName": "Orbyts",
      "userId": "04029330621133876034"
     },
     "user_tz": -60
    },
    "id": "jzBC9kB_iVv1",
    "outputId": "88882989-8f0c-4555-b01e-8c1a14cc1b08"
   },
   "outputs": [],
   "source": [
    "print(pm1, pm1-pu1, pl1-pm1)"
   ]
  }
 ],
 "metadata": {
  "colab": {
   "authorship_tag": "ABX9TyPO67ayo0rG1yUJHY9SGdDf",
   "provenance": [
    {
     "file_id": "1o4rSTt2RwqeiuxXvgtLTGyQNAquTzyPj",
     "timestamp": 1740574294693
    }
   ],
   "toc_visible": true
  },
  "kernelspec": {
   "display_name": "juliet",
   "language": "python",
   "name": "python3"
  },
  "language_info": {
   "codemirror_mode": {
    "name": "ipython",
    "version": 3
   },
   "file_extension": ".py",
   "mimetype": "text/x-python",
   "name": "python",
   "nbconvert_exporter": "python",
   "pygments_lexer": "ipython3",
   "version": "3.11.13"
  }
 },
 "nbformat": 4,
 "nbformat_minor": 0
}
